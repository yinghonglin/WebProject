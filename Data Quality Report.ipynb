{
 "cells": [
  {
   "attachments": {},
   "cell_type": "markdown",
   "metadata": {},
   "source": [
    "# What is this project about?\n",
    "I first got in touch with the concept of \"Data Quality Report\" from fraud analytics class in Spring 2019, and I realized this preliminary data exploration is essential before any analysis. \n",
    "\n",
    "A data quality report is a general overview of the variables, and it contains three parts:\n",
    "1. A high-level description of the data\n",
    "2. A table listing summary information\n",
    "3. Short description with a picture\n",
    "\n",
    "A good data quality report serves as a gatekeeper to ensure the data is matching with the business. Upon completing this report, one would be familiar with the data. Additionally, it lays a good foundation for the creation of expert variables.   \n",
    "\n",
    "Though, creating a detailed data quality report is time-consuming and rather tedious especially when we need to document characteristics such as length or minimum value for every single variable. During my homework assignment, I wrote some functions and loops to save some repetitive work. The code here is not perfect since it is customized for a particular dataset, but anyone who is interested can make slight adjustment and apply it to other datasets. Hope you find this project helpful :)"
   ]
  },
  {
   "cell_type": "markdown",
   "metadata": {},
   "source": [
    "# Preparation"
   ]
  },
  {
   "cell_type": "code",
   "execution_count": 1,
   "metadata": {},
   "outputs": [],
   "source": [
    "import pandas as pd\n",
    "import numpy as np\n",
    "import matplotlib.pyplot as plt\n",
    "import seaborn as sns\n",
    "import warnings\n",
    "warnings.filterwarnings(\"ignore\")\n",
    "%matplotlib inline"
   ]
  },
  {
   "cell_type": "code",
   "execution_count": 2,
   "metadata": {},
   "outputs": [],
   "source": [
    "#Source for dataset:\n",
    "#https://data.cityofnewyork.us/Housing-Development/Property-Valuation-and-Assessment-Data/rgy2-tti8 \n",
    "mydata=pd.read_csv('NY property data.csv')"
   ]
  },
  {
   "cell_type": "code",
   "execution_count": 3,
   "metadata": {},
   "outputs": [
    {
     "data": {
      "text/html": [
       "<div>\n",
       "<style scoped>\n",
       "    .dataframe tbody tr th:only-of-type {\n",
       "        vertical-align: middle;\n",
       "    }\n",
       "\n",
       "    .dataframe tbody tr th {\n",
       "        vertical-align: top;\n",
       "    }\n",
       "\n",
       "    .dataframe thead th {\n",
       "        text-align: right;\n",
       "    }\n",
       "</style>\n",
       "<table border=\"1\" class=\"dataframe\">\n",
       "  <thead>\n",
       "    <tr style=\"text-align: right;\">\n",
       "      <th></th>\n",
       "      <th>RECORD</th>\n",
       "      <th>BBLE</th>\n",
       "      <th>B</th>\n",
       "      <th>BLOCK</th>\n",
       "      <th>LOT</th>\n",
       "      <th>EASEMENT</th>\n",
       "      <th>OWNER</th>\n",
       "      <th>BLDGCL</th>\n",
       "      <th>TAXCLASS</th>\n",
       "      <th>LTFRONT</th>\n",
       "      <th>...</th>\n",
       "      <th>BLDFRONT</th>\n",
       "      <th>BLDDEPTH</th>\n",
       "      <th>AVLAND2</th>\n",
       "      <th>AVTOT2</th>\n",
       "      <th>EXLAND2</th>\n",
       "      <th>EXTOT2</th>\n",
       "      <th>EXCD2</th>\n",
       "      <th>PERIOD</th>\n",
       "      <th>YEAR</th>\n",
       "      <th>VALTYPE</th>\n",
       "    </tr>\n",
       "  </thead>\n",
       "  <tbody>\n",
       "    <tr>\n",
       "      <th>0</th>\n",
       "      <td>1</td>\n",
       "      <td>1000010101</td>\n",
       "      <td>1</td>\n",
       "      <td>1</td>\n",
       "      <td>101</td>\n",
       "      <td>NaN</td>\n",
       "      <td>U S GOVT LAND &amp; BLDGS</td>\n",
       "      <td>P7</td>\n",
       "      <td>4</td>\n",
       "      <td>500</td>\n",
       "      <td>...</td>\n",
       "      <td>0</td>\n",
       "      <td>0</td>\n",
       "      <td>3775500.0</td>\n",
       "      <td>8613000.0</td>\n",
       "      <td>3775500.0</td>\n",
       "      <td>8613000.0</td>\n",
       "      <td>NaN</td>\n",
       "      <td>FINAL</td>\n",
       "      <td>2010/11</td>\n",
       "      <td>AC-TR</td>\n",
       "    </tr>\n",
       "    <tr>\n",
       "      <th>1</th>\n",
       "      <td>2</td>\n",
       "      <td>1000010201</td>\n",
       "      <td>1</td>\n",
       "      <td>1</td>\n",
       "      <td>201</td>\n",
       "      <td>NaN</td>\n",
       "      <td>U S GOVT LAND &amp; BLDGS</td>\n",
       "      <td>Z9</td>\n",
       "      <td>4</td>\n",
       "      <td>27</td>\n",
       "      <td>...</td>\n",
       "      <td>0</td>\n",
       "      <td>0</td>\n",
       "      <td>11111400.0</td>\n",
       "      <td>80690400.0</td>\n",
       "      <td>11111400.0</td>\n",
       "      <td>80690400.0</td>\n",
       "      <td>NaN</td>\n",
       "      <td>FINAL</td>\n",
       "      <td>2010/11</td>\n",
       "      <td>AC-TR</td>\n",
       "    </tr>\n",
       "    <tr>\n",
       "      <th>2</th>\n",
       "      <td>3</td>\n",
       "      <td>1000020001</td>\n",
       "      <td>1</td>\n",
       "      <td>2</td>\n",
       "      <td>1</td>\n",
       "      <td>NaN</td>\n",
       "      <td>DEPT OF GENERAL SERVI</td>\n",
       "      <td>Y7</td>\n",
       "      <td>4</td>\n",
       "      <td>709</td>\n",
       "      <td>...</td>\n",
       "      <td>709</td>\n",
       "      <td>564</td>\n",
       "      <td>32321790.0</td>\n",
       "      <td>40179510.0</td>\n",
       "      <td>32321790.0</td>\n",
       "      <td>40179510.0</td>\n",
       "      <td>NaN</td>\n",
       "      <td>FINAL</td>\n",
       "      <td>2010/11</td>\n",
       "      <td>AC-TR</td>\n",
       "    </tr>\n",
       "    <tr>\n",
       "      <th>3</th>\n",
       "      <td>4</td>\n",
       "      <td>1000020023</td>\n",
       "      <td>1</td>\n",
       "      <td>2</td>\n",
       "      <td>23</td>\n",
       "      <td>NaN</td>\n",
       "      <td>DEPARTMENT OF BUSINES</td>\n",
       "      <td>T2</td>\n",
       "      <td>4</td>\n",
       "      <td>793</td>\n",
       "      <td>...</td>\n",
       "      <td>85</td>\n",
       "      <td>551</td>\n",
       "      <td>13644000.0</td>\n",
       "      <td>15750000.0</td>\n",
       "      <td>13644000.0</td>\n",
       "      <td>15750000.0</td>\n",
       "      <td>NaN</td>\n",
       "      <td>FINAL</td>\n",
       "      <td>2010/11</td>\n",
       "      <td>AC-TR</td>\n",
       "    </tr>\n",
       "    <tr>\n",
       "      <th>4</th>\n",
       "      <td>5</td>\n",
       "      <td>1000030001</td>\n",
       "      <td>1</td>\n",
       "      <td>3</td>\n",
       "      <td>1</td>\n",
       "      <td>NaN</td>\n",
       "      <td>PARKS AND RECREATION</td>\n",
       "      <td>Q1</td>\n",
       "      <td>4</td>\n",
       "      <td>323</td>\n",
       "      <td>...</td>\n",
       "      <td>89</td>\n",
       "      <td>57</td>\n",
       "      <td>106348680.0</td>\n",
       "      <td>107758350.0</td>\n",
       "      <td>106348680.0</td>\n",
       "      <td>107758350.0</td>\n",
       "      <td>NaN</td>\n",
       "      <td>FINAL</td>\n",
       "      <td>2010/11</td>\n",
       "      <td>AC-TR</td>\n",
       "    </tr>\n",
       "  </tbody>\n",
       "</table>\n",
       "<p>5 rows × 32 columns</p>\n",
       "</div>"
      ],
      "text/plain": [
       "   RECORD        BBLE  B  BLOCK  LOT EASEMENT                  OWNER BLDGCL  \\\n",
       "0       1  1000010101  1      1  101      NaN  U S GOVT LAND & BLDGS     P7   \n",
       "1       2  1000010201  1      1  201      NaN  U S GOVT LAND & BLDGS     Z9   \n",
       "2       3  1000020001  1      2    1      NaN  DEPT OF GENERAL SERVI     Y7   \n",
       "3       4  1000020023  1      2   23      NaN  DEPARTMENT OF BUSINES     T2   \n",
       "4       5  1000030001  1      3    1      NaN   PARKS AND RECREATION     Q1   \n",
       "\n",
       "  TAXCLASS  LTFRONT   ...    BLDFRONT BLDDEPTH      AVLAND2       AVTOT2  \\\n",
       "0        4      500   ...           0        0    3775500.0    8613000.0   \n",
       "1        4       27   ...           0        0   11111400.0   80690400.0   \n",
       "2        4      709   ...         709      564   32321790.0   40179510.0   \n",
       "3        4      793   ...          85      551   13644000.0   15750000.0   \n",
       "4        4      323   ...          89       57  106348680.0  107758350.0   \n",
       "\n",
       "       EXLAND2       EXTOT2  EXCD2  PERIOD     YEAR VALTYPE  \n",
       "0    3775500.0    8613000.0    NaN   FINAL  2010/11   AC-TR  \n",
       "1   11111400.0   80690400.0    NaN   FINAL  2010/11   AC-TR  \n",
       "2   32321790.0   40179510.0    NaN   FINAL  2010/11   AC-TR  \n",
       "3   13644000.0   15750000.0    NaN   FINAL  2010/11   AC-TR  \n",
       "4  106348680.0  107758350.0    NaN   FINAL  2010/11   AC-TR  \n",
       "\n",
       "[5 rows x 32 columns]"
      ]
     },
     "execution_count": 3,
     "metadata": {},
     "output_type": "execute_result"
    }
   ],
   "source": [
    "mydata.head()"
   ]
  },
  {
   "cell_type": "markdown",
   "metadata": {},
   "source": [
    "# Summary Table"
   ]
  },
  {
   "cell_type": "markdown",
   "metadata": {},
   "source": [
    "At first, since this dataset only contains int64, float64, and object, I created the loop based on datatype: \n",
    "\n",
    "    if not object->calculate summary statistics like mean, SD, max, min\n",
    "    if object->extract the most common field\n",
    "\n",
    "However, many categorical variables in this dataset are either in int64 or float64 format (for example, Zip code). It is biased to run summary based on data type. Thus, I took another approach--running the same if statement on field type, and this \"Field Type\" variable is manually encoded based on an assessment of the data. "
   ]
  },
  {
   "cell_type": "code",
   "execution_count": 4,
   "metadata": {},
   "outputs": [],
   "source": [
    "#add filetype \n",
    "FieldType=[\n",
    "\"Categorical\",\n",
    "\"Categorical\",\n",
    "\"Categorical\",\n",
    "\"Categorical\",\n",
    "\"Categorical\",\n",
    "\"Categorical\",\n",
    "\"Text\",\n",
    "\"Categorical\",\n",
    "\"Categorical\",\n",
    "\"Numeric\",\n",
    "\"Numeric\",\n",
    "\"Categorical\",\n",
    "\"Numeric\",\n",
    "\"Numeric\",\n",
    "\"Numeric\",\n",
    "\"Numeric\",\n",
    "\"Numeric\",\n",
    "\"Numeric\",\n",
    "\"Numeric\",\n",
    "\"Text\",\n",
    "\"Categorical\",\n",
    "\"Categorical\",\n",
    "\"Numeric\",\n",
    "\"Numeric\",\n",
    "\"Numeric\",\n",
    "\"Numeric\",\n",
    "\"Numeric\",\n",
    "\"Numeric\",\n",
    "\"Numeric\",\n",
    "\"Categorical\",\n",
    "\"Time\",\n",
    "\"Categorical\"\n",
    "] "
   ]
  },
  {
   "cell_type": "code",
   "execution_count": 5,
   "metadata": {},
   "outputs": [],
   "source": [
    "#Create data frame\n",
    "summary=pd.DataFrame(mydata.dtypes)\n",
    "summary.index.name=\"Field Name\"\n",
    "colname=[\"Data Type\"]\n",
    "summary.columns=colname\n",
    "summary[\"Field Type\"]=FieldType"
   ]
  },
  {
   "cell_type": "code",
   "execution_count": 6,
   "metadata": {},
   "outputs": [],
   "source": [
    "#add denominator for % populated\n",
    "num=len(mydata) "
   ]
  },
  {
   "cell_type": "code",
   "execution_count": 7,
   "metadata": {},
   "outputs": [],
   "source": [
    "#function to retrieve most common item for categorical data\n",
    "def most_common(lst):\n",
    "    '''\n",
    "    Return the most frequent record from a list\n",
    "    '''\n",
    "    test=pd.DataFrame(lst.value_counts())\n",
    "    test.reset_index(inplace=True)\n",
    "    return test.iloc[0,0]"
   ]
  },
  {
   "cell_type": "code",
   "execution_count": 8,
   "metadata": {},
   "outputs": [],
   "source": [
    "#create loop to create summary table based on file type\n",
    "for lab, row in summary.iterrows():\n",
    "    #add general info regardless of data type\n",
    "    summary.loc[lab,\"# of Records with Value\"]=int(mydata[lab].count())\n",
    "    summary.loc[lab,\"% Populated\"]=round(mydata[lab].count()*100/num,2)\n",
    "    summary.loc[lab,\"# Unique Values\"]=int(len(mydata[lab].dropna(axis=0).unique()))\n",
    "    summary.loc[lab,\"# Records with Value Zero\"]=int(len(mydata[mydata[lab]==0]))\n",
    "    #for numeric\n",
    "    if summary.loc[lab,\"Field Type\"]==\"Numeric\":\n",
    "        summary.loc[lab,\"Mean\"]=round(np.nanmean(mydata[lab]),2)\n",
    "        summary.loc[lab,\"SD\"]=round(np.nanstd(mydata[lab]),2)\n",
    "        summary.loc[lab,\"Min\"]=round(np.nanmin(mydata[lab]),2)\n",
    "        summary.loc[lab,\"Max\"]=round(np.nanmax(mydata[lab]),2)\n",
    "        summary.loc[lab,\"Most Common Field\"]=\" \"\n",
    "    #for non-numeric\n",
    "    else:\n",
    "        summary.loc[lab,\"Mean\"]=\" \"\n",
    "        summary.loc[lab,\"SD\"]=\" \"\n",
    "        summary.loc[lab,\"Min\"]=\" \"\n",
    "        summary.loc[lab,\"Max\"]=\" \"\n",
    "        summary.loc[lab,\"Most Common Field\"]=most_common(mydata[lab])"
   ]
  },
  {
   "cell_type": "code",
   "execution_count": 9,
   "metadata": {
    "scrolled": true
   },
   "outputs": [
    {
     "data": {
      "text/html": [
       "<div>\n",
       "<style scoped>\n",
       "    .dataframe tbody tr th:only-of-type {\n",
       "        vertical-align: middle;\n",
       "    }\n",
       "\n",
       "    .dataframe tbody tr th {\n",
       "        vertical-align: top;\n",
       "    }\n",
       "\n",
       "    .dataframe thead th {\n",
       "        text-align: right;\n",
       "    }\n",
       "</style>\n",
       "<table border=\"1\" class=\"dataframe\">\n",
       "  <thead>\n",
       "    <tr style=\"text-align: right;\">\n",
       "      <th></th>\n",
       "      <th>Data Type</th>\n",
       "      <th>Field Type</th>\n",
       "      <th># of Records with Value</th>\n",
       "      <th>% Populated</th>\n",
       "      <th># Unique Values</th>\n",
       "      <th># Records with Value Zero</th>\n",
       "      <th>Mean</th>\n",
       "      <th>SD</th>\n",
       "      <th>Min</th>\n",
       "      <th>Max</th>\n",
       "      <th>Most Common Field</th>\n",
       "    </tr>\n",
       "    <tr>\n",
       "      <th>Field Name</th>\n",
       "      <th></th>\n",
       "      <th></th>\n",
       "      <th></th>\n",
       "      <th></th>\n",
       "      <th></th>\n",
       "      <th></th>\n",
       "      <th></th>\n",
       "      <th></th>\n",
       "      <th></th>\n",
       "      <th></th>\n",
       "      <th></th>\n",
       "    </tr>\n",
       "  </thead>\n",
       "  <tbody>\n",
       "    <tr>\n",
       "      <th>RECORD</th>\n",
       "      <td>int64</td>\n",
       "      <td>Categorical</td>\n",
       "      <td>1070994.0</td>\n",
       "      <td>100.00</td>\n",
       "      <td>1070994.0</td>\n",
       "      <td>0.0</td>\n",
       "      <td></td>\n",
       "      <td></td>\n",
       "      <td></td>\n",
       "      <td></td>\n",
       "      <td>2047</td>\n",
       "    </tr>\n",
       "    <tr>\n",
       "      <th>BBLE</th>\n",
       "      <td>object</td>\n",
       "      <td>Categorical</td>\n",
       "      <td>1070994.0</td>\n",
       "      <td>100.00</td>\n",
       "      <td>1070994.0</td>\n",
       "      <td>0.0</td>\n",
       "      <td></td>\n",
       "      <td></td>\n",
       "      <td></td>\n",
       "      <td></td>\n",
       "      <td>3008560047</td>\n",
       "    </tr>\n",
       "    <tr>\n",
       "      <th>B</th>\n",
       "      <td>int64</td>\n",
       "      <td>Categorical</td>\n",
       "      <td>1070994.0</td>\n",
       "      <td>100.00</td>\n",
       "      <td>5.0</td>\n",
       "      <td>0.0</td>\n",
       "      <td></td>\n",
       "      <td></td>\n",
       "      <td></td>\n",
       "      <td></td>\n",
       "      <td>4</td>\n",
       "    </tr>\n",
       "    <tr>\n",
       "      <th>BLOCK</th>\n",
       "      <td>int64</td>\n",
       "      <td>Categorical</td>\n",
       "      <td>1070994.0</td>\n",
       "      <td>100.00</td>\n",
       "      <td>13984.0</td>\n",
       "      <td>0.0</td>\n",
       "      <td></td>\n",
       "      <td></td>\n",
       "      <td></td>\n",
       "      <td></td>\n",
       "      <td>3944</td>\n",
       "    </tr>\n",
       "    <tr>\n",
       "      <th>LOT</th>\n",
       "      <td>int64</td>\n",
       "      <td>Categorical</td>\n",
       "      <td>1070994.0</td>\n",
       "      <td>100.00</td>\n",
       "      <td>6366.0</td>\n",
       "      <td>0.0</td>\n",
       "      <td></td>\n",
       "      <td></td>\n",
       "      <td></td>\n",
       "      <td></td>\n",
       "      <td>1</td>\n",
       "    </tr>\n",
       "    <tr>\n",
       "      <th>EASEMENT</th>\n",
       "      <td>object</td>\n",
       "      <td>Categorical</td>\n",
       "      <td>4636.0</td>\n",
       "      <td>0.43</td>\n",
       "      <td>12.0</td>\n",
       "      <td>0.0</td>\n",
       "      <td></td>\n",
       "      <td></td>\n",
       "      <td></td>\n",
       "      <td></td>\n",
       "      <td>E</td>\n",
       "    </tr>\n",
       "    <tr>\n",
       "      <th>OWNER</th>\n",
       "      <td>object</td>\n",
       "      <td>Text</td>\n",
       "      <td>1039249.0</td>\n",
       "      <td>97.04</td>\n",
       "      <td>863347.0</td>\n",
       "      <td>0.0</td>\n",
       "      <td></td>\n",
       "      <td></td>\n",
       "      <td></td>\n",
       "      <td></td>\n",
       "      <td>PARKCHESTER PRESERVAT</td>\n",
       "    </tr>\n",
       "    <tr>\n",
       "      <th>BLDGCL</th>\n",
       "      <td>object</td>\n",
       "      <td>Categorical</td>\n",
       "      <td>1070994.0</td>\n",
       "      <td>100.00</td>\n",
       "      <td>200.0</td>\n",
       "      <td>0.0</td>\n",
       "      <td></td>\n",
       "      <td></td>\n",
       "      <td></td>\n",
       "      <td></td>\n",
       "      <td>R4</td>\n",
       "    </tr>\n",
       "    <tr>\n",
       "      <th>TAXCLASS</th>\n",
       "      <td>object</td>\n",
       "      <td>Categorical</td>\n",
       "      <td>1070994.0</td>\n",
       "      <td>100.00</td>\n",
       "      <td>11.0</td>\n",
       "      <td>0.0</td>\n",
       "      <td></td>\n",
       "      <td></td>\n",
       "      <td></td>\n",
       "      <td></td>\n",
       "      <td>1</td>\n",
       "    </tr>\n",
       "    <tr>\n",
       "      <th>LTFRONT</th>\n",
       "      <td>int64</td>\n",
       "      <td>Numeric</td>\n",
       "      <td>1070994.0</td>\n",
       "      <td>100.00</td>\n",
       "      <td>1297.0</td>\n",
       "      <td>169108.0</td>\n",
       "      <td>36.64</td>\n",
       "      <td>74.03</td>\n",
       "      <td>0</td>\n",
       "      <td>9999</td>\n",
       "      <td></td>\n",
       "    </tr>\n",
       "    <tr>\n",
       "      <th>LTDEPTH</th>\n",
       "      <td>int64</td>\n",
       "      <td>Numeric</td>\n",
       "      <td>1070994.0</td>\n",
       "      <td>100.00</td>\n",
       "      <td>1370.0</td>\n",
       "      <td>170128.0</td>\n",
       "      <td>88.86</td>\n",
       "      <td>76.4</td>\n",
       "      <td>0</td>\n",
       "      <td>9999</td>\n",
       "      <td></td>\n",
       "    </tr>\n",
       "    <tr>\n",
       "      <th>EXT</th>\n",
       "      <td>object</td>\n",
       "      <td>Categorical</td>\n",
       "      <td>354305.0</td>\n",
       "      <td>33.08</td>\n",
       "      <td>3.0</td>\n",
       "      <td>0.0</td>\n",
       "      <td></td>\n",
       "      <td></td>\n",
       "      <td></td>\n",
       "      <td></td>\n",
       "      <td>G</td>\n",
       "    </tr>\n",
       "    <tr>\n",
       "      <th>STORIES</th>\n",
       "      <td>float64</td>\n",
       "      <td>Numeric</td>\n",
       "      <td>1014730.0</td>\n",
       "      <td>94.75</td>\n",
       "      <td>111.0</td>\n",
       "      <td>0.0</td>\n",
       "      <td>5.01</td>\n",
       "      <td>8.37</td>\n",
       "      <td>1</td>\n",
       "      <td>119</td>\n",
       "      <td></td>\n",
       "    </tr>\n",
       "    <tr>\n",
       "      <th>FULLVAL</th>\n",
       "      <td>float64</td>\n",
       "      <td>Numeric</td>\n",
       "      <td>1070994.0</td>\n",
       "      <td>100.00</td>\n",
       "      <td>109324.0</td>\n",
       "      <td>13007.0</td>\n",
       "      <td>874265</td>\n",
       "      <td>1.15824e+07</td>\n",
       "      <td>0</td>\n",
       "      <td>6.15e+09</td>\n",
       "      <td></td>\n",
       "    </tr>\n",
       "    <tr>\n",
       "      <th>AVLAND</th>\n",
       "      <td>float64</td>\n",
       "      <td>Numeric</td>\n",
       "      <td>1070994.0</td>\n",
       "      <td>100.00</td>\n",
       "      <td>70921.0</td>\n",
       "      <td>13009.0</td>\n",
       "      <td>85067.9</td>\n",
       "      <td>4.05726e+06</td>\n",
       "      <td>0</td>\n",
       "      <td>2.6685e+09</td>\n",
       "      <td></td>\n",
       "    </tr>\n",
       "    <tr>\n",
       "      <th>AVTOT</th>\n",
       "      <td>float64</td>\n",
       "      <td>Numeric</td>\n",
       "      <td>1070994.0</td>\n",
       "      <td>100.00</td>\n",
       "      <td>112914.0</td>\n",
       "      <td>13007.0</td>\n",
       "      <td>227238</td>\n",
       "      <td>6.87753e+06</td>\n",
       "      <td>0</td>\n",
       "      <td>4.66831e+09</td>\n",
       "      <td></td>\n",
       "    </tr>\n",
       "    <tr>\n",
       "      <th>EXLAND</th>\n",
       "      <td>float64</td>\n",
       "      <td>Numeric</td>\n",
       "      <td>1070994.0</td>\n",
       "      <td>100.00</td>\n",
       "      <td>33419.0</td>\n",
       "      <td>491699.0</td>\n",
       "      <td>36423.9</td>\n",
       "      <td>3.98157e+06</td>\n",
       "      <td>0</td>\n",
       "      <td>2.6685e+09</td>\n",
       "      <td></td>\n",
       "    </tr>\n",
       "    <tr>\n",
       "      <th>EXTOT</th>\n",
       "      <td>float64</td>\n",
       "      <td>Numeric</td>\n",
       "      <td>1070994.0</td>\n",
       "      <td>100.00</td>\n",
       "      <td>64255.0</td>\n",
       "      <td>432572.0</td>\n",
       "      <td>91187</td>\n",
       "      <td>6.5084e+06</td>\n",
       "      <td>0</td>\n",
       "      <td>4.66831e+09</td>\n",
       "      <td></td>\n",
       "    </tr>\n",
       "    <tr>\n",
       "      <th>EXCD1</th>\n",
       "      <td>float64</td>\n",
       "      <td>Numeric</td>\n",
       "      <td>638488.0</td>\n",
       "      <td>59.62</td>\n",
       "      <td>129.0</td>\n",
       "      <td>0.0</td>\n",
       "      <td>1602.01</td>\n",
       "      <td>1384.23</td>\n",
       "      <td>1010</td>\n",
       "      <td>7170</td>\n",
       "      <td></td>\n",
       "    </tr>\n",
       "    <tr>\n",
       "      <th>STADDR</th>\n",
       "      <td>object</td>\n",
       "      <td>Text</td>\n",
       "      <td>1070318.0</td>\n",
       "      <td>99.94</td>\n",
       "      <td>839280.0</td>\n",
       "      <td>0.0</td>\n",
       "      <td></td>\n",
       "      <td></td>\n",
       "      <td></td>\n",
       "      <td></td>\n",
       "      <td>501 SURF AVENUE</td>\n",
       "    </tr>\n",
       "    <tr>\n",
       "      <th>ZIP</th>\n",
       "      <td>float64</td>\n",
       "      <td>Categorical</td>\n",
       "      <td>1041104.0</td>\n",
       "      <td>97.21</td>\n",
       "      <td>196.0</td>\n",
       "      <td>0.0</td>\n",
       "      <td></td>\n",
       "      <td></td>\n",
       "      <td></td>\n",
       "      <td></td>\n",
       "      <td>10314</td>\n",
       "    </tr>\n",
       "    <tr>\n",
       "      <th>EXMPTCL</th>\n",
       "      <td>object</td>\n",
       "      <td>Categorical</td>\n",
       "      <td>15579.0</td>\n",
       "      <td>1.45</td>\n",
       "      <td>14.0</td>\n",
       "      <td>0.0</td>\n",
       "      <td></td>\n",
       "      <td></td>\n",
       "      <td></td>\n",
       "      <td></td>\n",
       "      <td>X1</td>\n",
       "    </tr>\n",
       "    <tr>\n",
       "      <th>BLDFRONT</th>\n",
       "      <td>int64</td>\n",
       "      <td>Numeric</td>\n",
       "      <td>1070994.0</td>\n",
       "      <td>100.00</td>\n",
       "      <td>612.0</td>\n",
       "      <td>228815.0</td>\n",
       "      <td>23.04</td>\n",
       "      <td>35.58</td>\n",
       "      <td>0</td>\n",
       "      <td>7575</td>\n",
       "      <td></td>\n",
       "    </tr>\n",
       "    <tr>\n",
       "      <th>BLDDEPTH</th>\n",
       "      <td>int64</td>\n",
       "      <td>Numeric</td>\n",
       "      <td>1070994.0</td>\n",
       "      <td>100.00</td>\n",
       "      <td>621.0</td>\n",
       "      <td>228853.0</td>\n",
       "      <td>39.92</td>\n",
       "      <td>42.71</td>\n",
       "      <td>0</td>\n",
       "      <td>9393</td>\n",
       "      <td></td>\n",
       "    </tr>\n",
       "    <tr>\n",
       "      <th>AVLAND2</th>\n",
       "      <td>float64</td>\n",
       "      <td>Numeric</td>\n",
       "      <td>282726.0</td>\n",
       "      <td>26.40</td>\n",
       "      <td>58591.0</td>\n",
       "      <td>0.0</td>\n",
       "      <td>246236</td>\n",
       "      <td>6.17895e+06</td>\n",
       "      <td>3</td>\n",
       "      <td>2.37100e+09</td>\n",
       "      <td></td>\n",
       "    </tr>\n",
       "    <tr>\n",
       "      <th>AVTOT2</th>\n",
       "      <td>float64</td>\n",
       "      <td>Numeric</td>\n",
       "      <td>282732.0</td>\n",
       "      <td>26.40</td>\n",
       "      <td>111360.0</td>\n",
       "      <td>0.0</td>\n",
       "      <td>713911</td>\n",
       "      <td>1.16525e+07</td>\n",
       "      <td>3</td>\n",
       "      <td>4.50118e+09</td>\n",
       "      <td></td>\n",
       "    </tr>\n",
       "    <tr>\n",
       "      <th>EXLAND2</th>\n",
       "      <td>float64</td>\n",
       "      <td>Numeric</td>\n",
       "      <td>87449.0</td>\n",
       "      <td>8.17</td>\n",
       "      <td>22195.0</td>\n",
       "      <td>0.0</td>\n",
       "      <td>351236</td>\n",
       "      <td>1.08022e+07</td>\n",
       "      <td>1</td>\n",
       "      <td>2.37100e+09</td>\n",
       "      <td></td>\n",
       "    </tr>\n",
       "    <tr>\n",
       "      <th>EXTOT2</th>\n",
       "      <td>float64</td>\n",
       "      <td>Numeric</td>\n",
       "      <td>130828.0</td>\n",
       "      <td>12.22</td>\n",
       "      <td>48348.0</td>\n",
       "      <td>0.0</td>\n",
       "      <td>656768</td>\n",
       "      <td>1.60724e+07</td>\n",
       "      <td>7</td>\n",
       "      <td>4.50118e+09</td>\n",
       "      <td></td>\n",
       "    </tr>\n",
       "    <tr>\n",
       "      <th>EXCD2</th>\n",
       "      <td>float64</td>\n",
       "      <td>Numeric</td>\n",
       "      <td>92948.0</td>\n",
       "      <td>8.68</td>\n",
       "      <td>60.0</td>\n",
       "      <td>0.0</td>\n",
       "      <td>1364.04</td>\n",
       "      <td>1094.7</td>\n",
       "      <td>1011</td>\n",
       "      <td>7160</td>\n",
       "      <td></td>\n",
       "    </tr>\n",
       "    <tr>\n",
       "      <th>PERIOD</th>\n",
       "      <td>object</td>\n",
       "      <td>Categorical</td>\n",
       "      <td>1070994.0</td>\n",
       "      <td>100.00</td>\n",
       "      <td>1.0</td>\n",
       "      <td>0.0</td>\n",
       "      <td></td>\n",
       "      <td></td>\n",
       "      <td></td>\n",
       "      <td></td>\n",
       "      <td>FINAL</td>\n",
       "    </tr>\n",
       "    <tr>\n",
       "      <th>YEAR</th>\n",
       "      <td>object</td>\n",
       "      <td>Time</td>\n",
       "      <td>1070994.0</td>\n",
       "      <td>100.00</td>\n",
       "      <td>1.0</td>\n",
       "      <td>0.0</td>\n",
       "      <td></td>\n",
       "      <td></td>\n",
       "      <td></td>\n",
       "      <td></td>\n",
       "      <td>2010/11</td>\n",
       "    </tr>\n",
       "    <tr>\n",
       "      <th>VALTYPE</th>\n",
       "      <td>object</td>\n",
       "      <td>Categorical</td>\n",
       "      <td>1070994.0</td>\n",
       "      <td>100.00</td>\n",
       "      <td>1.0</td>\n",
       "      <td>0.0</td>\n",
       "      <td></td>\n",
       "      <td></td>\n",
       "      <td></td>\n",
       "      <td></td>\n",
       "      <td>AC-TR</td>\n",
       "    </tr>\n",
       "  </tbody>\n",
       "</table>\n",
       "</div>"
      ],
      "text/plain": [
       "           Data Type   Field Type  # of Records with Value  % Populated  \\\n",
       "Field Name                                                                \n",
       "RECORD         int64  Categorical                1070994.0       100.00   \n",
       "BBLE          object  Categorical                1070994.0       100.00   \n",
       "B              int64  Categorical                1070994.0       100.00   \n",
       "BLOCK          int64  Categorical                1070994.0       100.00   \n",
       "LOT            int64  Categorical                1070994.0       100.00   \n",
       "EASEMENT      object  Categorical                   4636.0         0.43   \n",
       "OWNER         object         Text                1039249.0        97.04   \n",
       "BLDGCL        object  Categorical                1070994.0       100.00   \n",
       "TAXCLASS      object  Categorical                1070994.0       100.00   \n",
       "LTFRONT        int64      Numeric                1070994.0       100.00   \n",
       "LTDEPTH        int64      Numeric                1070994.0       100.00   \n",
       "EXT           object  Categorical                 354305.0        33.08   \n",
       "STORIES      float64      Numeric                1014730.0        94.75   \n",
       "FULLVAL      float64      Numeric                1070994.0       100.00   \n",
       "AVLAND       float64      Numeric                1070994.0       100.00   \n",
       "AVTOT        float64      Numeric                1070994.0       100.00   \n",
       "EXLAND       float64      Numeric                1070994.0       100.00   \n",
       "EXTOT        float64      Numeric                1070994.0       100.00   \n",
       "EXCD1        float64      Numeric                 638488.0        59.62   \n",
       "STADDR        object         Text                1070318.0        99.94   \n",
       "ZIP          float64  Categorical                1041104.0        97.21   \n",
       "EXMPTCL       object  Categorical                  15579.0         1.45   \n",
       "BLDFRONT       int64      Numeric                1070994.0       100.00   \n",
       "BLDDEPTH       int64      Numeric                1070994.0       100.00   \n",
       "AVLAND2      float64      Numeric                 282726.0        26.40   \n",
       "AVTOT2       float64      Numeric                 282732.0        26.40   \n",
       "EXLAND2      float64      Numeric                  87449.0         8.17   \n",
       "EXTOT2       float64      Numeric                 130828.0        12.22   \n",
       "EXCD2        float64      Numeric                  92948.0         8.68   \n",
       "PERIOD        object  Categorical                1070994.0       100.00   \n",
       "YEAR          object         Time                1070994.0       100.00   \n",
       "VALTYPE       object  Categorical                1070994.0       100.00   \n",
       "\n",
       "            # Unique Values  # Records with Value Zero     Mean           SD  \\\n",
       "Field Name                                                                     \n",
       "RECORD            1070994.0                        0.0                         \n",
       "BBLE              1070994.0                        0.0                         \n",
       "B                       5.0                        0.0                         \n",
       "BLOCK               13984.0                        0.0                         \n",
       "LOT                  6366.0                        0.0                         \n",
       "EASEMENT               12.0                        0.0                         \n",
       "OWNER              863347.0                        0.0                         \n",
       "BLDGCL                200.0                        0.0                         \n",
       "TAXCLASS               11.0                        0.0                         \n",
       "LTFRONT              1297.0                   169108.0    36.64        74.03   \n",
       "LTDEPTH              1370.0                   170128.0    88.86         76.4   \n",
       "EXT                     3.0                        0.0                         \n",
       "STORIES               111.0                        0.0     5.01         8.37   \n",
       "FULLVAL            109324.0                    13007.0   874265  1.15824e+07   \n",
       "AVLAND              70921.0                    13009.0  85067.9  4.05726e+06   \n",
       "AVTOT              112914.0                    13007.0   227238  6.87753e+06   \n",
       "EXLAND              33419.0                   491699.0  36423.9  3.98157e+06   \n",
       "EXTOT               64255.0                   432572.0    91187   6.5084e+06   \n",
       "EXCD1                 129.0                        0.0  1602.01      1384.23   \n",
       "STADDR             839280.0                        0.0                         \n",
       "ZIP                   196.0                        0.0                         \n",
       "EXMPTCL                14.0                        0.0                         \n",
       "BLDFRONT              612.0                   228815.0    23.04        35.58   \n",
       "BLDDEPTH              621.0                   228853.0    39.92        42.71   \n",
       "AVLAND2             58591.0                        0.0   246236  6.17895e+06   \n",
       "AVTOT2             111360.0                        0.0   713911  1.16525e+07   \n",
       "EXLAND2             22195.0                        0.0   351236  1.08022e+07   \n",
       "EXTOT2              48348.0                        0.0   656768  1.60724e+07   \n",
       "EXCD2                  60.0                        0.0  1364.04       1094.7   \n",
       "PERIOD                  1.0                        0.0                         \n",
       "YEAR                    1.0                        0.0                         \n",
       "VALTYPE                 1.0                        0.0                         \n",
       "\n",
       "             Min          Max      Most Common Field  \n",
       "Field Name                                            \n",
       "RECORD                                          2047  \n",
       "BBLE                                      3008560047  \n",
       "B                                                  4  \n",
       "BLOCK                                           3944  \n",
       "LOT                                                1  \n",
       "EASEMENT                                           E  \n",
       "OWNER                          PARKCHESTER PRESERVAT  \n",
       "BLDGCL                                            R4  \n",
       "TAXCLASS                                           1  \n",
       "LTFRONT        0         9999                         \n",
       "LTDEPTH        0         9999                         \n",
       "EXT                                                G  \n",
       "STORIES        1          119                         \n",
       "FULLVAL        0     6.15e+09                         \n",
       "AVLAND         0   2.6685e+09                         \n",
       "AVTOT          0  4.66831e+09                         \n",
       "EXLAND         0   2.6685e+09                         \n",
       "EXTOT          0  4.66831e+09                         \n",
       "EXCD1       1010         7170                         \n",
       "STADDR                               501 SURF AVENUE  \n",
       "ZIP                                            10314  \n",
       "EXMPTCL                                           X1  \n",
       "BLDFRONT       0         7575                         \n",
       "BLDDEPTH       0         9393                         \n",
       "AVLAND2        3  2.37100e+09                         \n",
       "AVTOT2         3  4.50118e+09                         \n",
       "EXLAND2        1  2.37100e+09                         \n",
       "EXTOT2         7  4.50118e+09                         \n",
       "EXCD2       1011         7160                         \n",
       "PERIOD                                         FINAL  \n",
       "YEAR                                         2010/11  \n",
       "VALTYPE                                        AC-TR  "
      ]
     },
     "execution_count": 9,
     "metadata": {},
     "output_type": "execute_result"
    }
   ],
   "source": [
    "summary"
   ]
  },
  {
   "cell_type": "code",
   "execution_count": 11,
   "metadata": {},
   "outputs": [],
   "source": [
    "#transform to csv file\n",
    "summary.to_csv(\"Summary.csv\")"
   ]
  },
  {
   "cell_type": "markdown",
   "metadata": {},
   "source": [
    "# Visualization"
   ]
  },
  {
   "cell_type": "markdown",
   "metadata": {},
   "source": [
    "### Defining Functions "
   ]
  },
  {
   "cell_type": "markdown",
   "metadata": {},
   "source": [
    "When constructing a distribution plot, if a variable contains a large number of extreme values or a wide range with a handful of outliers, selecting a smaller x range might be a better option.\n",
    "\n",
    "The following functions are defined to calculate a good cutoff point for x range. "
   ]
  },
  {
   "cell_type": "code",
   "execution_count": 12,
   "metadata": {},
   "outputs": [],
   "source": [
    "#define cutoff as Q3+1.5*IQR\n",
    "def calIQR(lst):\n",
    "    '''\n",
    "    Calculate IQR from a given list of value.\n",
    "    '''\n",
    "    Q1=np.percentile(lst,25)\n",
    "    Q3=np.percentile(lst,75)\n",
    "    IQR=Q3-Q1\n",
    "    upper=Q3+1.5*IQR\n",
    "    return round(upper,2)"
   ]
  },
  {
   "cell_type": "code",
   "execution_count": 13,
   "metadata": {},
   "outputs": [],
   "source": [
    "#define upperlim as mean+3*SD\n",
    "def calSD(lst):\n",
    "    '''\n",
    "    Calculate the value three standard deviation away from mean from a given list of value.\n",
    "    '''\n",
    "    upper=np.nanmean(lst)+3*np.nanstd(lst)\n",
    "    return round(upper,2)"
   ]
  },
  {
   "cell_type": "markdown",
   "metadata": {},
   "source": [
    "The following functions are defined to construct distplot with given column name and a cutoff point for x range."
   ]
  },
  {
   "cell_type": "code",
   "execution_count": 14,
   "metadata": {},
   "outputs": [],
   "source": [
    "#plot with given column name and calculate upperlim\n",
    "def cutoffplt(name,function=calSD):\n",
    "    '''\n",
    "    Construct a distplot based on given column name and function for x range.\n",
    "    Default function is calSD since it gives a wider range than calIQR\n",
    "    '''\n",
    "    xhigh=function(mydata[name])\n",
    "    plt.xlim(0,xhigh)\n",
    "    temp=mydata[mydata[name]<=xhigh]\n",
    "    sns.distplot(temp[name],bins=100,kde=True)"
   ]
  },
  {
   "cell_type": "code",
   "execution_count": 15,
   "metadata": {},
   "outputs": [],
   "source": [
    "#plot with given name and specified x upper limit\n",
    "def highplt(name,x):\n",
    "    '''\n",
    "    Construct a distplot based on given column name and x range.\n",
    "    '''\n",
    "    xhigh=x\n",
    "    plt.xlim(0,xhigh)\n",
    "    temp=mydata[mydata[name]<=xhigh]\n",
    "    sns.distplot(temp[name],bins=100,kde=True)"
   ]
  },
  {
   "cell_type": "markdown",
   "metadata": {},
   "source": [
    "### Categorical"
   ]
  },
  {
   "cell_type": "code",
   "execution_count": 16,
   "metadata": {},
   "outputs": [
    {
     "data": {
      "image/png": "[encoded data removed]",
      "text/plain": [
       "<Figure size 432x288 with 1 Axes>"
      ]
     },
     "metadata": {},
     "output_type": "display_data"
    }
   ],
   "source": [
    "#to construct bar chart on 'B'\n",
    "mydata['B'].value_counts().plot(kind='bar',color='lightblue');"
   ]
  },
  {
   "cell_type": "code",
   "execution_count": 17,
   "metadata": {},
   "outputs": [
    {
     "data": {
      "image/png": "[encoded data removed]",
      "text/plain": [
       "<Figure size 432x288 with 1 Axes>"
      ]
     },
     "metadata": {},
     "output_type": "display_data"
    }
   ],
   "source": [
    "#to construct bar chart for top 25 records\n",
    "mydata['BLOCK'].value_counts().head(25).plot(kind='bar',color='lightblue');"
   ]
  },
  {
   "cell_type": "code",
   "execution_count": 18,
   "metadata": {},
   "outputs": [
    {
     "data": {
      "image/png": "[encoded data removed]",
      "text/plain": [
       "<Figure size 432x288 with 1 Axes>"
      ]
     },
     "metadata": {},
     "output_type": "display_data"
    }
   ],
   "source": [
    "#It is not easy to visualize the last couple variables, so to consider changing y-axis\n",
    "mydata['TAXCLASS'].value_counts().plot(kind='bar',color='lightblue');"
   ]
  },
  {
   "cell_type": "code",
   "execution_count": 19,
   "metadata": {},
   "outputs": [
    {
     "data": {
      "image/png": "[encoded data removed]",
      "text/plain": [
       "<Figure size 432x288 with 1 Axes>"
      ]
     },
     "metadata": {},
     "output_type": "display_data"
    }
   ],
   "source": [
    "#to change y-axis to log scale\n",
    "plot=sns.countplot(x='TAXCLASS',data=mydata,color=\"lightblue\")\n",
    "plot.set_yscale('log')"
   ]
  },
  {
   "cell_type": "markdown",
   "metadata": {},
   "source": [
    "### Numeric"
   ]
  },
  {
   "cell_type": "code",
   "execution_count": 20,
   "metadata": {},
   "outputs": [
    {
     "data": {
      "image/png": "[encoded data removed]",
      "text/plain": [
       "<Figure size 432x288 with 1 Axes>"
      ]
     },
     "metadata": {},
     "output_type": "display_data"
    }
   ],
   "source": [
    "#Lets start with a box plot. Seems like there are a lot of outliers\n",
    "sns.boxplot(mydata['LTFRONT']);"
   ]
  },
  {
   "cell_type": "code",
   "execution_count": 21,
   "metadata": {},
   "outputs": [
    {
     "data": {
      "image/png": "[encoded data removed]",
      "text/plain": [
       "<Figure size 432x288 with 1 Axes>"
      ]
     },
     "metadata": {},
     "output_type": "display_data"
    }
   ],
   "source": [
    "#Data concentrate on 0 even max number is reaching 10000\n",
    "sns.distplot(mydata['LTFRONT']); "
   ]
  },
  {
   "cell_type": "code",
   "execution_count": 22,
   "metadata": {},
   "outputs": [
    {
     "data": {
      "image/png": "[encoded data removed]",
      "text/plain": [
       "<Figure size 432x288 with 1 Axes>"
      ]
     },
     "metadata": {},
     "output_type": "display_data"
    }
   ],
   "source": [
    "#try to set x range to mean plus three standard deviation\n",
    "cutoffplt(\"LTFRONT\")"
   ]
  },
  {
   "cell_type": "code",
   "execution_count": 23,
   "metadata": {},
   "outputs": [
    {
     "data": {
      "image/png": "[encoded data removed]",
      "text/plain": [
       "<Figure size 432x288 with 1 Axes>"
      ]
     },
     "metadata": {},
     "output_type": "display_data"
    }
   ],
   "source": [
    "#try to set x range to Q3 plus 1.5 of IQR\n",
    "cutoffplt(\"LTFRONT\",calIQR)"
   ]
  },
  {
   "cell_type": "markdown",
   "metadata": {},
   "source": [
    "--------"
   ]
  },
  {
   "cell_type": "code",
   "execution_count": 24,
   "metadata": {},
   "outputs": [
    {
     "data": {
      "image/png": "[encoded data removed]",
      "text/plain": [
       "<Figure size 432x288 with 1 Axes>"
      ]
     },
     "metadata": {},
     "output_type": "display_data"
    }
   ],
   "source": [
    "#Another variable\n",
    "sns.distplot(mydata['FULLVAL']);"
   ]
  },
  {
   "cell_type": "code",
   "execution_count": 25,
   "metadata": {},
   "outputs": [
    {
     "data": {
      "image/png": "[encoded data removed]",
      "text/plain": [
       "<Figure size 432x288 with 1 Axes>"
      ]
     },
     "metadata": {},
     "output_type": "display_data"
    }
   ],
   "source": [
    "cutoffplt(\"FULLVAL\")"
   ]
  },
  {
   "cell_type": "code",
   "execution_count": 26,
   "metadata": {},
   "outputs": [
    {
     "data": {
      "image/png": "[encoded data removed]",
      "text/plain": [
       "<Figure size 432x288 with 1 Axes>"
      ]
     },
     "metadata": {},
     "output_type": "display_data"
    }
   ],
   "source": [
    "cutoffplt(\"FULLVAL\",calIQR)"
   ]
  },
  {
   "cell_type": "code",
   "execution_count": 27,
   "metadata": {},
   "outputs": [
    {
     "data": {
      "image/png": "[encoded data removed]",
      "text/plain": [
       "<Figure size 432x288 with 1 Axes>"
      ]
     },
     "metadata": {},
     "output_type": "display_data"
    }
   ],
   "source": [
    "# to change y-axis to log scale \n",
    "temp = mydata[mydata['FULLVAL'] >= 0]\n",
    "ax = sns.distplot(temp['FULLVAL'],bins=100, kde=False)\n",
    "ax.set_yscale('log')"
   ]
  },
  {
   "cell_type": "code",
   "execution_count": 28,
   "metadata": {},
   "outputs": [
    {
     "data": {
      "image/png": "[encoded data removed]",
      "text/plain": [
       "<Figure size 432x288 with 1 Axes>"
      ]
     },
     "metadata": {},
     "output_type": "display_data"
    }
   ],
   "source": [
    "#when calSD, calIQR, and rescaling y-axis do not work well\n",
    "#try manually encoding x range \n",
    "highplt(\"FULLVAL\",2000000)"
   ]
  },
  {
   "cell_type": "markdown",
   "metadata": {},
   "source": [
    "--------------"
   ]
  },
  {
   "cell_type": "markdown",
   "metadata": {},
   "source": [
    "Now you are all set to start a data quality report! :D"
   ]
  }
 ],
 "metadata": {
  "kernelspec": {
   "display_name": "Python 3",
   "language": "python",
   "name": "python3"
  },
  "language_info": {
   "codemirror_mode": {
    "name": "ipython",
    "version": 3
   },
   "file_extension": ".py",
   "mimetype": "text/x-python",
   "name": "python",
   "nbconvert_exporter": "python",
   "pygments_lexer": "ipython3",
   "version": "3.6.5"
  }
 },
 "nbformat": 4,
 "nbformat_minor": 2
}
